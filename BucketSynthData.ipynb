{
  "nbformat": 4,
  "nbformat_minor": 0,
  "metadata": {
    "colab": {
      "provenance": [],
      "authorship_tag": "ABX9TyPu99dr9sEkS4M9IZG3KlH/",
      "include_colab_link": true
    },
    "kernelspec": {
      "name": "python3",
      "display_name": "Python 3"
    },
    "language_info": {
      "name": "python"
    }
  },
  "cells": [
    {
      "cell_type": "markdown",
      "metadata": {
        "id": "view-in-github",
        "colab_type": "text"
      },
      "source": [
        "<a href=\"https://colab.research.google.com/github/JohnQuantum/BucketDemo/blob/master/BucketSynthData.ipynb\" target=\"_parent\"><img src=\"https://colab.research.google.com/assets/colab-badge.svg\" alt=\"Open In Colab\"/></a>"
      ]
    },
    {
      "cell_type": "code",
      "source": [
        "!pip install faker"
      ],
      "metadata": {
        "colab": {
          "base_uri": "https://localhost:8080/"
        },
        "id": "ZpM1SvGiWK02",
        "outputId": "9adc3789-0d74-476e-9b1e-e0d70919cfe9"
      },
      "execution_count": 4,
      "outputs": [
        {
          "output_type": "stream",
          "name": "stdout",
          "text": [
            "Requirement already satisfied: faker in /usr/local/lib/python3.11/dist-packages (37.3.0)\n",
            "Requirement already satisfied: tzdata in /usr/local/lib/python3.11/dist-packages (from faker) (2025.2)\n"
          ]
        }
      ]
    },
    {
      "cell_type": "code",
      "execution_count": null,
      "metadata": {
        "id": "dQJS2cNgV3Iu"
      },
      "outputs": [],
      "source": [
        "from faker import Faker\n",
        "import pandas as pd\n",
        "import random\n",
        "from datetime import datetime, timedelta\n",
        "\n",
        "faker = Faker()\n",
        "regions = [\n",
        "    (\"Americas\", \"USD\", \"AWS\"),\n",
        "    (\"EMEA\", \"EUR\", \"Azure\"),\n",
        "    (\"APAC\", \"JPY\", \"GCP\")\n",
        "]\n",
        "\n",
        "all_customers = [faker.uuid4() for _ in range(120000)]  # Seed pool for overlap\n",
        "\n",
        "def generate_region_data(region, currency, n, customer_pool):\n",
        "    data = []\n",
        "    for _ in range(n):\n",
        "        cust_id = random.choice(customer_pool)\n",
        "        email = faker.email()\n",
        "        data.append({\n",
        "            \"transaction_id\": faker.uuid4(),\n",
        "            \"customer_id\": cust_id,\n",
        "            \"region\": region,\n",
        "            \"transaction_datetime\": faker.date_time_this_decade(),\n",
        "            \"amount\": round(random.uniform(10, 5000), 2),\n",
        "            \"currency\": currency,\n",
        "            \"product_id\": faker.bothify(text='SKU-#######'),\n",
        "            \"product_category\": random.choice(['Electronics', 'Apparel', 'Food', 'Books', 'Health']),\n",
        "            \"payment_method\": random.choice(['Credit Card', 'ACH', 'Paypal', 'Crypto']),\n",
        "            \"status\": random.choice(['Completed', 'Refunded', 'Pending']),\n",
        "            \"customer_email\": email,\n",
        "            \"customer_country\": faker.country(),\n",
        "            \"sales_rep\": faker.name(),\n",
        "            \"notes\": faker.sentence(nb_words=6)\n",
        "        })\n",
        "    return pd.DataFrame(data)\n",
        "\n",
        "# Split the customer pool for overlap\n",
        "americas_cust = all_customers[:80000]\n",
        "emea_cust = all_customers[20000:100000]\n",
        "apac_cust = all_customers[40000:]\n",
        "\n",
        "df_americas = generate_region_data('Americas', 'USD', 100000, americas_cust)\n",
        "df_emea = generate_region_data('EMEA', 'EUR', 100000, emea_cust)\n",
        "df_apac = generate_region_data('APAC', 'JPY', 100000, apac_cust)\n",
        "\n",
        "# Save each to CSV\n",
        "df_americas.to_csv('aws/customer_transactions.csv', index=False)\n",
        "df_emea.to_csv('azure/customer_transactions.csv', index=False)\n",
        "df_apac.to_csv('gcp/customer_transactions.csv', index=False)\n"
      ]
    }
  ]
}